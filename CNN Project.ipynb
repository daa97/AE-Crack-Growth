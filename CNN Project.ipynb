{
 "cells": [
  {
   "cell_type": "code",
   "execution_count": 26,
   "id": "ddef9778",
   "metadata": {},
   "outputs": [],
   "source": [
    "import math\n",
    "def entropy(waveform):\n",
    "    dist = PMF(waveform)\n",
    "    ent = 0\n",
    "    for prob in dist:\n",
    "        # print(\"PROB:\", prob)\n",
    "        if prob != 0:\n",
    "            info = math.log(prob, 2)\n",
    "        else:\n",
    "            info = 0\n",
    "        # print(\"INFO:\", info)\n",
    "        ent += - prob * info\n",
    "    return ent\n",
    "\n",
    "\n",
    "def PMF(waveform):\n",
    "    hist = histogram(waveform)\n",
    "    return [count / sum(hist) for count in hist]\n",
    "\n",
    "\n",
    "def histogram(waveform):\n",
    "    heights = sorted([abs(pt) for pt in waveform])\n",
    "    n = len(heights)\n",
    "    (Q1, Q2, Q3) = quartiles(heights)\n",
    "    IQR = Q3 - Q1\n",
    "    data_range = heights[-1] - heights[0]\n",
    "    bin_width = 2 * IQR / (n ** (1 / 3))\n",
    "    num_bins = math.ceil(data_range / bin_width)\n",
    "    bins = []\n",
    "    # Loop through each bin in the histogram\n",
    "    for i in range(num_bins):\n",
    "        bins.append(0)\n",
    "        # Loop through each data point to see if it should be added to the bin\n",
    "        for h in heights:\n",
    "            # Most bins are inclusive only at lower bound: [x0, x1)\n",
    "            if bin_width * i <= h < bin_width * (i + 1):\n",
    "                bins[-1] += 1\n",
    "            # Last bin is inclusive at both bounds: [x1, x2]\n",
    "            elif i == num_bins - 1 and h == bin_width * (i + 1):\n",
    "                bins[-1] += 1\n",
    "    return bins\n",
    "\n",
    "\n",
    "def quartiles(data):\n",
    "    d = sorted(data)\n",
    "    L = len(d)\n",
    "    if L % 4 == 0:\n",
    "        Q1 = ind2(d, L // 4)\n",
    "        Q2 = ind2(d, L // 2)\n",
    "        Q3 = ind2(d, (L // 4) * 3)\n",
    "    elif L % 4 == 1:\n",
    "        Q1 = ind2(d, L // 4)\n",
    "        Q2 = d[L // 2]\n",
    "        Q3 = ind2(d, (L // 4) * 3 + 1)\n",
    "    elif L % 4 == 2:\n",
    "        Q1 = d[L // 4]\n",
    "        Q2 = ind2(d, L // 2)\n",
    "        Q3 = d[(L // 4) * 3 + 1]\n",
    "    elif L % 4 == 3:\n",
    "        Q1 = d[L // 4]\n",
    "        Q2 = d[L // 2]\n",
    "        Q3 = d[(L // 4) * 3 + 2]\n",
    "    return Q1, Q2, Q3\n",
    "\n",
    "\n",
    "# averages two elements from a list with indices of index2 and index2-1 (for taking medians when # of elements is even)\n",
    "def ind2(lis, index2):\n",
    "    return (lis[index2 - 1] + lis[index2]) / 2\n",
    "\n",
    "\n",
    "def kurtosis(data):\n",
    "    mu = avg(data)\n",
    "    D = [point - mu for point in data]\n",
    "\n",
    "    numerator = avg([d ** 4 for d in D])\n",
    "    denominator = avg([d ** 2 for d in D]) ** 2\n",
    "    return numerator / denominator\n",
    "\n",
    "\n",
    "def avg(l):\n",
    "    return sum(l) / len(l)\n",
    "\n",
    "\n",
    "def outlier(data):\n",
    "    Q1, _, Q3 = quartiles(data)\n",
    "    threshold = Q3 + (Q3 - Q1)\n",
    "    return [pt > threshold for pt in data]"
   ]
  },
  {
   "cell_type": "code",
   "execution_count": 27,
   "id": "921965bf",
   "metadata": {},
   "outputs": [],
   "source": [
    "import os\n",
    "import matplotlib.pyplot as plt\n",
    "import scipy.signal as sig\n",
    "import numpy as np\n",
    "\n",
    "\n",
    "class Dataset:\n",
    "    def __init__(self):\n",
    "        self.hits = []\n",
    "    def add_hit(self, fname):\n",
    "        hit = Hit()\n",
    "        hit.read_file(fname)\n",
    "        self.hits.append(hit)\n",
    "        return self.hits[-1]\n",
    "    def add_hits(self, folder):\n",
    "        for file in os.listdir(folder):\n",
    "            f = os.path.join(folder, file)\n",
    "            self.add_hit(f)\n",
    "            if len(self.hits) % 100 == 0:\n",
    "                print(len(self.hits))\n",
    "\n",
    "class Hit:\n",
    "    \"represents a waveform with a fixed number of voltage values over time\"\n",
    "    def __init__(self, fname=None, waveform=None):\n",
    "        self.file_name = fname\n",
    "        self.start_time = None\n",
    "        self.waveform = waveform\n",
    "        self.entropy = None\n",
    "        self.ie_outlier = None\n",
    "        self.sample_interval = None\n",
    "        self.spectrogram = None\n",
    "\n",
    "\n",
    "    def read_file(self, fname=None):\n",
    "        if fname is not None:\n",
    "            self.file_name = fname\n",
    "        with open(self.file_name, mode='r') as f:\n",
    "            txt = f.readlines()\n",
    "        for ind, line in enumerate(txt):\n",
    "            if \"TIME OF TEST:\" in line:\n",
    "                self.start_time = float(line.split(\": \")[1])\n",
    "            if \"SAMPLE INTERVAL (Seconds):\" in line:\n",
    "                self.sample_interval = float(line.split(\": \")[1])\n",
    "            if line==\"\\n\":\n",
    "                self.waveform = []\n",
    "                break\n",
    "        else:\n",
    "            print(fname)\n",
    "            raise ValueError(\"Expected blank line not found in waveform datafile\")\n",
    "        for line in txt[ind+1:]:\n",
    "            self.waveform.append(float(line))\n",
    "    def spect(self, binsize, sample_rate=1, plot=False):\n",
    "        pass\n",
    "\n",
    "def spect(wave, binsize, sample_rate=1, plot=False):\n",
    "    '''if plot:\n",
    "        ext = (time_axis[0], time_axis[-1], freq_axis[0], freq_axis[-1])\n",
    "        stretch = (time_axis[-1]-time_axis[0]) / (freq_axis[-1]-freq_axis[0])\n",
    "        plt.imshow(intensity, extent=ext, aspect=0.8*stretch, origin=\"lower\")\n",
    "        plt.show()'''\n",
    "    return sig.spectrogram(np.array(wave), nperseg=binsize, fs=sample_rate)[2]"
   ]
  },
  {
   "cell_type": "code",
   "execution_count": 28,
   "id": "e10af79e",
   "metadata": {},
   "outputs": [],
   "source": [
    "import tensorflow as tf\n",
    "from statistics import stdev\n",
    "import time\n",
    "from tensorflow.keras import layers, models\n",
    "\n",
    "\n"
   ]
  },
  {
   "cell_type": "code",
   "execution_count": 29,
   "id": "a8d20f69",
   "metadata": {},
   "outputs": [
    {
     "name": "stdout",
     "output_type": "stream",
     "text": [
      "starting\n",
      "100\n",
      "200\n",
      "300\n",
      "400\n"
     ]
    },
    {
     "ename": "KeyboardInterrupt",
     "evalue": "",
     "output_type": "error",
     "traceback": [
      "\u001b[1;31m---------------------------------------------------------------------------\u001b[0m",
      "\u001b[1;31mKeyboardInterrupt\u001b[0m                         Traceback (most recent call last)",
      "\u001b[1;32mc:\\Users\\david\\OneDrive - Drexel University\\Documents\\GitHub\\MEMT680-Project\\CNN Project.ipynb Cell 4\u001b[0m in \u001b[0;36m<cell line: 5>\u001b[1;34m()\u001b[0m\n\u001b[0;32m      <a href='vscode-notebook-cell:/c%3A/Users/david/OneDrive%20-%20Drexel%20University/Documents/GitHub/MEMT680-Project/CNN%20Project.ipynb#X15sZmlsZQ%3D%3D?line=2'>3</a>\u001b[0m test \u001b[39m=\u001b[39m Dataset()\n\u001b[0;32m      <a href='vscode-notebook-cell:/c%3A/Users/david/OneDrive%20-%20Drexel%20University/Documents/GitHub/MEMT680-Project/CNN%20Project.ipynb#X15sZmlsZQ%3D%3D?line=3'>4</a>\u001b[0m t1 \u001b[39m=\u001b[39m time\u001b[39m.\u001b[39mtime()\n\u001b[1;32m----> <a href='vscode-notebook-cell:/c%3A/Users/david/OneDrive%20-%20Drexel%20University/Documents/GitHub/MEMT680-Project/CNN%20Project.ipynb#X15sZmlsZQ%3D%3D?line=4'>5</a>\u001b[0m test\u001b[39m.\u001b[39;49madd_hits(\u001b[39mf\u001b[39;49m\u001b[39m\"\u001b[39;49m\u001b[39mWaveform4\u001b[39;49m\u001b[39m\"\u001b[39;49m)\n\u001b[0;32m      <a href='vscode-notebook-cell:/c%3A/Users/david/OneDrive%20-%20Drexel%20University/Documents/GitHub/MEMT680-Project/CNN%20Project.ipynb#X15sZmlsZQ%3D%3D?line=5'>6</a>\u001b[0m t2 \u001b[39m=\u001b[39m time\u001b[39m.\u001b[39mtime()\n\u001b[0;32m      <a href='vscode-notebook-cell:/c%3A/Users/david/OneDrive%20-%20Drexel%20University/Documents/GitHub/MEMT680-Project/CNN%20Project.ipynb#X15sZmlsZQ%3D%3D?line=6'>7</a>\u001b[0m \u001b[39mprint\u001b[39m(\u001b[39m\"\u001b[39m\u001b[39mimported\u001b[39m\u001b[39m\"\u001b[39m, t2\u001b[39m-\u001b[39mt1)\n",
      "\u001b[1;32mc:\\Users\\david\\OneDrive - Drexel University\\Documents\\GitHub\\MEMT680-Project\\CNN Project.ipynb Cell 4\u001b[0m in \u001b[0;36mDataset.add_hits\u001b[1;34m(self, folder)\u001b[0m\n\u001b[0;32m     <a href='vscode-notebook-cell:/c%3A/Users/david/OneDrive%20-%20Drexel%20University/Documents/GitHub/MEMT680-Project/CNN%20Project.ipynb#X15sZmlsZQ%3D%3D?line=15'>16</a>\u001b[0m \u001b[39mfor\u001b[39;00m file \u001b[39min\u001b[39;00m os\u001b[39m.\u001b[39mlistdir(folder):\n\u001b[0;32m     <a href='vscode-notebook-cell:/c%3A/Users/david/OneDrive%20-%20Drexel%20University/Documents/GitHub/MEMT680-Project/CNN%20Project.ipynb#X15sZmlsZQ%3D%3D?line=16'>17</a>\u001b[0m     f \u001b[39m=\u001b[39m os\u001b[39m.\u001b[39mpath\u001b[39m.\u001b[39mjoin(folder, file)\n\u001b[1;32m---> <a href='vscode-notebook-cell:/c%3A/Users/david/OneDrive%20-%20Drexel%20University/Documents/GitHub/MEMT680-Project/CNN%20Project.ipynb#X15sZmlsZQ%3D%3D?line=17'>18</a>\u001b[0m     \u001b[39mself\u001b[39;49m\u001b[39m.\u001b[39;49madd_hit(f)\n\u001b[0;32m     <a href='vscode-notebook-cell:/c%3A/Users/david/OneDrive%20-%20Drexel%20University/Documents/GitHub/MEMT680-Project/CNN%20Project.ipynb#X15sZmlsZQ%3D%3D?line=18'>19</a>\u001b[0m     \u001b[39mif\u001b[39;00m \u001b[39mlen\u001b[39m(\u001b[39mself\u001b[39m\u001b[39m.\u001b[39mhits) \u001b[39m%\u001b[39m \u001b[39m100\u001b[39m \u001b[39m==\u001b[39m \u001b[39m0\u001b[39m:\n\u001b[0;32m     <a href='vscode-notebook-cell:/c%3A/Users/david/OneDrive%20-%20Drexel%20University/Documents/GitHub/MEMT680-Project/CNN%20Project.ipynb#X15sZmlsZQ%3D%3D?line=19'>20</a>\u001b[0m         \u001b[39mprint\u001b[39m(\u001b[39mlen\u001b[39m(\u001b[39mself\u001b[39m\u001b[39m.\u001b[39mhits))\n",
      "\u001b[1;32mc:\\Users\\david\\OneDrive - Drexel University\\Documents\\GitHub\\MEMT680-Project\\CNN Project.ipynb Cell 4\u001b[0m in \u001b[0;36mDataset.add_hit\u001b[1;34m(self, fname)\u001b[0m\n\u001b[0;32m     <a href='vscode-notebook-cell:/c%3A/Users/david/OneDrive%20-%20Drexel%20University/Documents/GitHub/MEMT680-Project/CNN%20Project.ipynb#X15sZmlsZQ%3D%3D?line=9'>10</a>\u001b[0m \u001b[39mdef\u001b[39;00m \u001b[39madd_hit\u001b[39m(\u001b[39mself\u001b[39m, fname):\n\u001b[0;32m     <a href='vscode-notebook-cell:/c%3A/Users/david/OneDrive%20-%20Drexel%20University/Documents/GitHub/MEMT680-Project/CNN%20Project.ipynb#X15sZmlsZQ%3D%3D?line=10'>11</a>\u001b[0m     hit \u001b[39m=\u001b[39m Hit()\n\u001b[1;32m---> <a href='vscode-notebook-cell:/c%3A/Users/david/OneDrive%20-%20Drexel%20University/Documents/GitHub/MEMT680-Project/CNN%20Project.ipynb#X15sZmlsZQ%3D%3D?line=11'>12</a>\u001b[0m     hit\u001b[39m.\u001b[39;49mread_file(fname)\n\u001b[0;32m     <a href='vscode-notebook-cell:/c%3A/Users/david/OneDrive%20-%20Drexel%20University/Documents/GitHub/MEMT680-Project/CNN%20Project.ipynb#X15sZmlsZQ%3D%3D?line=12'>13</a>\u001b[0m     \u001b[39mself\u001b[39m\u001b[39m.\u001b[39mhits\u001b[39m.\u001b[39mappend(hit)\n\u001b[0;32m     <a href='vscode-notebook-cell:/c%3A/Users/david/OneDrive%20-%20Drexel%20University/Documents/GitHub/MEMT680-Project/CNN%20Project.ipynb#X15sZmlsZQ%3D%3D?line=13'>14</a>\u001b[0m     \u001b[39mreturn\u001b[39;00m \u001b[39mself\u001b[39m\u001b[39m.\u001b[39mhits[\u001b[39m-\u001b[39m\u001b[39m1\u001b[39m]\n",
      "\u001b[1;32mc:\\Users\\david\\OneDrive - Drexel University\\Documents\\GitHub\\MEMT680-Project\\CNN Project.ipynb Cell 4\u001b[0m in \u001b[0;36mHit.read_file\u001b[1;34m(self, fname)\u001b[0m\n\u001b[0;32m     <a href='vscode-notebook-cell:/c%3A/Users/david/OneDrive%20-%20Drexel%20University/Documents/GitHub/MEMT680-Project/CNN%20Project.ipynb#X15sZmlsZQ%3D%3D?line=34'>35</a>\u001b[0m \u001b[39mif\u001b[39;00m fname \u001b[39mis\u001b[39;00m \u001b[39mnot\u001b[39;00m \u001b[39mNone\u001b[39;00m:\n\u001b[0;32m     <a href='vscode-notebook-cell:/c%3A/Users/david/OneDrive%20-%20Drexel%20University/Documents/GitHub/MEMT680-Project/CNN%20Project.ipynb#X15sZmlsZQ%3D%3D?line=35'>36</a>\u001b[0m     \u001b[39mself\u001b[39m\u001b[39m.\u001b[39mfile_name \u001b[39m=\u001b[39m fname\n\u001b[1;32m---> <a href='vscode-notebook-cell:/c%3A/Users/david/OneDrive%20-%20Drexel%20University/Documents/GitHub/MEMT680-Project/CNN%20Project.ipynb#X15sZmlsZQ%3D%3D?line=36'>37</a>\u001b[0m \u001b[39mwith\u001b[39;00m \u001b[39mopen\u001b[39;49m(\u001b[39mself\u001b[39;49m\u001b[39m.\u001b[39;49mfile_name, mode\u001b[39m=\u001b[39;49m\u001b[39m'\u001b[39;49m\u001b[39mr\u001b[39;49m\u001b[39m'\u001b[39;49m) \u001b[39mas\u001b[39;00m f:\n\u001b[0;32m     <a href='vscode-notebook-cell:/c%3A/Users/david/OneDrive%20-%20Drexel%20University/Documents/GitHub/MEMT680-Project/CNN%20Project.ipynb#X15sZmlsZQ%3D%3D?line=37'>38</a>\u001b[0m     txt \u001b[39m=\u001b[39m f\u001b[39m.\u001b[39mreadlines()\n\u001b[0;32m     <a href='vscode-notebook-cell:/c%3A/Users/david/OneDrive%20-%20Drexel%20University/Documents/GitHub/MEMT680-Project/CNN%20Project.ipynb#X15sZmlsZQ%3D%3D?line=38'>39</a>\u001b[0m \u001b[39mfor\u001b[39;00m ind, line \u001b[39min\u001b[39;00m \u001b[39menumerate\u001b[39m(txt):\n",
      "File \u001b[1;32mc:\\Users\\david\\anaconda3\\lib\\_bootlocale.py:11\u001b[0m, in \u001b[0;36mgetpreferredencoding\u001b[1;34m(do_setlocale)\u001b[0m\n\u001b[0;32m      8\u001b[0m \u001b[39mimport\u001b[39;00m \u001b[39m_locale\u001b[39;00m\n\u001b[0;32m     10\u001b[0m \u001b[39mif\u001b[39;00m sys\u001b[39m.\u001b[39mplatform\u001b[39m.\u001b[39mstartswith(\u001b[39m\"\u001b[39m\u001b[39mwin\u001b[39m\u001b[39m\"\u001b[39m):\n\u001b[1;32m---> 11\u001b[0m     \u001b[39mdef\u001b[39;00m \u001b[39mgetpreferredencoding\u001b[39m(do_setlocale\u001b[39m=\u001b[39m\u001b[39mTrue\u001b[39;00m):\n\u001b[0;32m     12\u001b[0m         \u001b[39mif\u001b[39;00m sys\u001b[39m.\u001b[39mflags\u001b[39m.\u001b[39mutf8_mode:\n\u001b[0;32m     13\u001b[0m             \u001b[39mreturn\u001b[39;00m \u001b[39m'\u001b[39m\u001b[39mUTF-8\u001b[39m\u001b[39m'\u001b[39m\n",
      "\u001b[1;31mKeyboardInterrupt\u001b[0m: "
     ]
    }
   ],
   "source": [
    "print(\"starting\")\n",
    "folder = \"Waveform2\"\n",
    "test = Dataset()\n",
    "t1 = time.time()\n",
    "test.add_hits(f\"Waveform4\")\n",
    "t2 = time.time()\n",
    "print(\"imported\", t2-t1)"
   ]
  },
  {
   "cell_type": "code",
   "execution_count": null,
   "id": "d7a37d4a",
   "metadata": {},
   "outputs": [
    {
     "name": "stdout",
     "output_type": "stream",
     "text": [
      "spectrogrammed 81.30070567131042\n"
     ]
    }
   ],
   "source": [
    "for h in test.hits:\n",
    "    h.spectrogram = spect(h.waveform, 120, sample_rate=1)\n",
    "    #h.entropy = entropy(h.waveform)\n",
    "t3 = time.time()\n",
    "print(\"spectrogrammed\", t3-t2)\n"
   ]
  },
  {
   "cell_type": "code",
   "execution_count": null,
   "id": "625f2a1a",
   "metadata": {},
   "outputs": [],
   "source": [
    "\n",
    "for h in test.hits:\n",
    "    f = \"SG\\\\\" + h.file_name.split(\"\\\\\")[-1].split(\".\")[0]\n",
    "    f2 = \"waves\\\\\" + h.file_name.split(\"\\\\\")[-1].split(\".\")[0]\n",
    "\n",
    "    np.save(f,h.spectrogram)\n",
    "    np.save(f2,h.waveform)\n",
    "        "
   ]
  },
  {
   "cell_type": "code",
   "execution_count": null,
   "id": "0f442ff9",
   "metadata": {},
   "outputs": [
    {
     "name": "stdout",
     "output_type": "stream",
     "text": [
      "done\n"
     ]
    }
   ],
   "source": [
    "w0 = np.array([h.spectrogram for h in test.hits])\n",
    "w1 = np.sqrt(w0)\n",
    "std = np.std(w1.flatten())\n",
    "mean = np.mean(w1)\n",
    "w = (w1- mean) / (10*std)\n",
    "ie = np.array([h.entropy for h in test.hits])\n",
    "y = np.array([np.array(o+1) for o in outlier(ie)])\n",
    "\n",
    "print(\"done\")"
   ]
  },
  {
   "cell_type": "code",
   "execution_count": 36,
   "id": "138316ec",
   "metadata": {},
   "outputs": [
    {
     "name": "stdout",
     "output_type": "stream",
     "text": [
      "2893\n"
     ]
    }
   ],
   "source": [
    "import os\n",
    "import numpy as np\n",
    "specs = []\n",
    "for file in os.listdir(\"SG\")[0:-1:25]:\n",
    "    specs.append(np.load(\"SG\\\\\"+file))\n",
    "\n",
    "print(len(specs))"
   ]
  },
  {
   "cell_type": "code",
   "execution_count": 37,
   "id": "65d53422",
   "metadata": {},
   "outputs": [
    {
     "data": {
      "text/plain": [
       "160.76249236090555"
      ]
     },
     "execution_count": 37,
     "metadata": {},
     "output_type": "execute_result"
    }
   ],
   "source": [
    "np.average(specs)\n",
    "np.std(specs)\n",
    "np.max(specs)\n"
   ]
  },
  {
   "cell_type": "code",
   "execution_count": 41,
   "id": "d090375c",
   "metadata": {},
   "outputs": [],
   "source": [
    "\n",
    "np.random.seed(42)\n",
    "filt = np.random.rand(len(specs))\n",
    "sp_train = []; sp_val = []\n",
    "for i in range(len(specs)):\n",
    "    if filt[i]<0.8:\n",
    "        sp_train.append(specs[i])\n",
    "    else:\n",
    "        sp_val.append(specs[i])\n",
    "\n",
    "sp_train = np.array(sp_train)\n",
    "sp_val = np.array(sp_val)"
   ]
  },
  {
   "cell_type": "code",
   "execution_count": 42,
   "id": "baf4150a",
   "metadata": {},
   "outputs": [
    {
     "name": "stdout",
     "output_type": "stream",
     "text": [
      "Model: \"sequential_6\"\n",
      "_________________________________________________________________\n",
      " Layer (type)                Output Shape              Param #   \n",
      "=================================================================\n",
      " conv2d_9 (Conv2D)           (None, 59, 56, 16)        160       \n",
      "                                                                 \n",
      " conv2d_10 (Conv2D)          (None, 57, 54, 16)        2320      \n",
      "                                                                 \n",
      "=================================================================\n",
      "Total params: 2,480\n",
      "Trainable params: 2,480\n",
      "Non-trainable params: 0\n",
      "_________________________________________________________________\n",
      "Model: \"sequential_7\"\n",
      "_________________________________________________________________\n",
      " Layer (type)                Output Shape              Param #   \n",
      "=================================================================\n",
      " conv2d_transpose_9 (Conv2DT  (None, 59, 56, 16)       2320      \n",
      " ranspose)                                                       \n",
      "                                                                 \n",
      " conv2d_transpose_10 (Conv2D  (None, 61, 58, 16)       2320      \n",
      " Transpose)                                                      \n",
      "                                                                 \n",
      " conv2d_transpose_11 (Conv2D  (None, 63, 60, 8)        1160      \n",
      " Transpose)                                                      \n",
      "                                                                 \n",
      " conv2d_11 (Conv2D)          (None, 61, 58, 1)         73        \n",
      "                                                                 \n",
      "=================================================================\n",
      "Total params: 5,873\n",
      "Trainable params: 5,873\n",
      "Non-trainable params: 0\n",
      "_________________________________________________________________\n",
      "Epoch 1/50\n",
      "73/73 [==============================] - 12s 48ms/step - loss: 0.1039 - accuracy: 0.3162 - val_loss: 2.9060e-04 - val_accuracy: 0.3137\n",
      "Epoch 2/50\n",
      "73/73 [==============================] - 2s 27ms/step - loss: 0.0174 - accuracy: 0.3163 - val_loss: 6.0611e-05 - val_accuracy: 0.3137\n",
      "Epoch 3/50\n",
      "73/73 [==============================] - 2s 27ms/step - loss: 0.0173 - accuracy: 0.3163 - val_loss: 3.0709e-05 - val_accuracy: 0.3137\n",
      "Epoch 4/50\n",
      "73/73 [==============================] - 2s 26ms/step - loss: 0.0173 - accuracy: 0.3163 - val_loss: 1.9379e-05 - val_accuracy: 0.3137\n",
      "Epoch 5/50\n",
      "73/73 [==============================] - 2s 27ms/step - loss: 0.0172 - accuracy: 0.3163 - val_loss: 1.3716e-05 - val_accuracy: 0.3137\n",
      "Epoch 6/50\n",
      "73/73 [==============================] - 2s 27ms/step - loss: 0.0172 - accuracy: 0.3163 - val_loss: 1.0630e-05 - val_accuracy: 0.3137\n",
      "Epoch 7/50\n",
      "73/73 [==============================] - 2s 27ms/step - loss: 0.0172 - accuracy: 0.3163 - val_loss: 8.8334e-06 - val_accuracy: 0.3137\n",
      "Epoch 8/50\n",
      "73/73 [==============================] - 2s 29ms/step - loss: 0.0172 - accuracy: 0.3163 - val_loss: 7.7472e-06 - val_accuracy: 0.3137\n",
      "Epoch 9/50\n",
      "73/73 [==============================] - 2s 32ms/step - loss: 0.0172 - accuracy: 0.3163 - val_loss: 7.0583e-06 - val_accuracy: 0.3137\n",
      "Epoch 10/50\n",
      "73/73 [==============================] - 3s 36ms/step - loss: 0.0172 - accuracy: 0.3163 - val_loss: 6.6089e-06 - val_accuracy: 0.3137\n",
      "Epoch 11/50\n",
      "73/73 [==============================] - 3s 46ms/step - loss: 0.0172 - accuracy: 0.3163 - val_loss: 6.3039e-06 - val_accuracy: 0.3137\n",
      "Epoch 12/50\n",
      "73/73 [==============================] - 3s 46ms/step - loss: 0.0172 - accuracy: 0.3163 - val_loss: 6.0895e-06 - val_accuracy: 0.3137\n",
      "Epoch 13/50\n",
      "73/73 [==============================] - 5s 65ms/step - loss: 0.0172 - accuracy: 0.3163 - val_loss: 5.9320e-06 - val_accuracy: 0.3137\n",
      "Epoch 14/50\n",
      "73/73 [==============================] - 7s 91ms/step - loss: 0.0172 - accuracy: 0.3163 - val_loss: 5.8160e-06 - val_accuracy: 0.3137\n",
      "Epoch 15/50\n",
      "73/73 [==============================] - 4s 48ms/step - loss: 0.0172 - accuracy: 0.3163 - val_loss: 5.7269e-06 - val_accuracy: 0.3137\n",
      "Epoch 16/50\n",
      "73/73 [==============================] - 4s 49ms/step - loss: 0.0172 - accuracy: 0.3163 - val_loss: 5.6595e-06 - val_accuracy: 0.3137\n",
      "Epoch 17/50\n",
      "73/73 [==============================] - 12s 158ms/step - loss: 0.0172 - accuracy: 0.3163 - val_loss: 5.6081e-06 - val_accuracy: 0.3137\n",
      "Epoch 18/50\n",
      "73/73 [==============================] - 9s 124ms/step - loss: 0.0172 - accuracy: 0.3163 - val_loss: 5.5681e-06 - val_accuracy: 0.3137\n",
      "Epoch 19/50\n",
      "73/73 [==============================] - 9s 128ms/step - loss: 0.0172 - accuracy: 0.3163 - val_loss: 5.5365e-06 - val_accuracy: 0.3137\n",
      "Epoch 20/50\n",
      "73/73 [==============================] - 4s 53ms/step - loss: 0.0172 - accuracy: 0.3163 - val_loss: 5.5110e-06 - val_accuracy: 0.3137\n",
      "Epoch 21/50\n",
      "73/73 [==============================] - 4s 53ms/step - loss: 0.0172 - accuracy: 0.3163 - val_loss: 5.4902e-06 - val_accuracy: 0.3137\n",
      "Epoch 22/50\n",
      "73/73 [==============================] - 8s 111ms/step - loss: 0.0172 - accuracy: 0.3163 - val_loss: 5.4730e-06 - val_accuracy: 0.3137\n",
      "Epoch 23/50\n",
      "73/73 [==============================] - 3s 45ms/step - loss: 0.0172 - accuracy: 0.3163 - val_loss: 5.4587e-06 - val_accuracy: 0.3137\n",
      "Epoch 24/50\n",
      "73/73 [==============================] - 5s 65ms/step - loss: 0.0172 - accuracy: 0.3163 - val_loss: 5.4467e-06 - val_accuracy: 0.3137\n",
      "Epoch 25/50\n",
      "73/73 [==============================] - 6s 88ms/step - loss: 0.0172 - accuracy: 0.3163 - val_loss: 5.4363e-06 - val_accuracy: 0.3137\n",
      "Epoch 26/50\n",
      "73/73 [==============================] - 9s 121ms/step - loss: 0.0172 - accuracy: 0.3163 - val_loss: 5.4273e-06 - val_accuracy: 0.3137\n",
      "Epoch 27/50\n",
      "73/73 [==============================] - 4s 55ms/step - loss: 0.0172 - accuracy: 0.3163 - val_loss: 5.4195e-06 - val_accuracy: 0.3137\n",
      "Epoch 28/50\n",
      "73/73 [==============================] - 3s 44ms/step - loss: 0.0172 - accuracy: 0.3163 - val_loss: 5.4127e-06 - val_accuracy: 0.3137\n",
      "Epoch 29/50\n",
      "73/73 [==============================] - 3s 44ms/step - loss: 0.0172 - accuracy: 0.3163 - val_loss: 5.4069e-06 - val_accuracy: 0.3137\n",
      "Epoch 30/50\n",
      "73/73 [==============================] - 3s 44ms/step - loss: 0.0172 - accuracy: 0.3163 - val_loss: 5.4018e-06 - val_accuracy: 0.3137\n",
      "Epoch 31/50\n",
      "73/73 [==============================] - 3s 44ms/step - loss: 0.0172 - accuracy: 0.3163 - val_loss: 5.3973e-06 - val_accuracy: 0.3137\n",
      "Epoch 32/50\n",
      "73/73 [==============================] - 3s 45ms/step - loss: 0.0172 - accuracy: 0.3163 - val_loss: 5.3934e-06 - val_accuracy: 0.3137\n",
      "Epoch 33/50\n",
      "73/73 [==============================] - 7s 103ms/step - loss: 0.0172 - accuracy: 0.3163 - val_loss: 5.3899e-06 - val_accuracy: 0.3137\n",
      "Epoch 34/50\n",
      "73/73 [==============================] - 3s 46ms/step - loss: 0.0172 - accuracy: 0.3163 - val_loss: 5.3868e-06 - val_accuracy: 0.3137\n",
      "Epoch 35/50\n",
      "73/73 [==============================] - 4s 62ms/step - loss: 0.0172 - accuracy: 0.3163 - val_loss: 5.3840e-06 - val_accuracy: 0.3137\n",
      "Epoch 36/50\n",
      "73/73 [==============================] - 11s 153ms/step - loss: 0.0172 - accuracy: 0.3163 - val_loss: 5.3816e-06 - val_accuracy: 0.3137\n",
      "Epoch 37/50\n",
      "73/73 [==============================] - 3s 45ms/step - loss: 0.0172 - accuracy: 0.3163 - val_loss: 5.3794e-06 - val_accuracy: 0.3137\n",
      "Epoch 38/50\n",
      "73/73 [==============================] - 5s 74ms/step - loss: 0.0172 - accuracy: 0.3163 - val_loss: 5.3774e-06 - val_accuracy: 0.3137\n",
      "Epoch 39/50\n",
      "73/73 [==============================] - 7s 101ms/step - loss: 0.0172 - accuracy: 0.3163 - val_loss: 5.3757e-06 - val_accuracy: 0.3137\n",
      "Epoch 40/50\n",
      "73/73 [==============================] - 3s 38ms/step - loss: 0.0172 - accuracy: 0.3163 - val_loss: 5.3741e-06 - val_accuracy: 0.3137\n",
      "Epoch 41/50\n",
      "73/73 [==============================] - 3s 35ms/step - loss: 0.0172 - accuracy: 0.3163 - val_loss: 5.3726e-06 - val_accuracy: 0.3137\n",
      "Epoch 42/50\n",
      "73/73 [==============================] - 2s 34ms/step - loss: 0.0172 - accuracy: 0.3163 - val_loss: 5.3713e-06 - val_accuracy: 0.3137\n",
      "Epoch 43/50\n",
      "73/73 [==============================] - 2s 34ms/step - loss: 0.0172 - accuracy: 0.3163 - val_loss: 5.3702e-06 - val_accuracy: 0.3137\n",
      "Epoch 44/50\n",
      "73/73 [==============================] - 2s 32ms/step - loss: 0.0172 - accuracy: 0.3163 - val_loss: 5.3691e-06 - val_accuracy: 0.3137\n",
      "Epoch 45/50\n",
      "73/73 [==============================] - 2s 33ms/step - loss: 0.0172 - accuracy: 0.3163 - val_loss: 5.3681e-06 - val_accuracy: 0.3137\n",
      "Epoch 46/50\n",
      "73/73 [==============================] - 2s 34ms/step - loss: 0.0172 - accuracy: 0.3163 - val_loss: 5.3672e-06 - val_accuracy: 0.3137\n",
      "Epoch 47/50\n",
      "73/73 [==============================] - 2s 33ms/step - loss: 0.0172 - accuracy: 0.3163 - val_loss: 5.3664e-06 - val_accuracy: 0.3137\n",
      "Epoch 48/50\n",
      "73/73 [==============================] - 3s 35ms/step - loss: 0.0172 - accuracy: 0.3163 - val_loss: 5.3657e-06 - val_accuracy: 0.3137\n",
      "Epoch 49/50\n",
      "73/73 [==============================] - 3s 35ms/step - loss: 0.0172 - accuracy: 0.3163 - val_loss: 5.3650e-06 - val_accuracy: 0.3137\n",
      "Epoch 50/50\n",
      "73/73 [==============================] - 2s 33ms/step - loss: 0.0172 - accuracy: 0.3163 - val_loss: 5.3643e-06 - val_accuracy: 0.3137\n"
     ]
    }
   ],
   "source": [
    "import tensorflow as tf\n",
    "from tensorflow.keras import layers, models\n",
    "\n",
    "class Autoencoder(models.Model):\n",
    "  def __init__(self):\n",
    "    super(Autoencoder, self).__init__()\n",
    "    self.encoded = None\n",
    "    self.encoder = tf.keras.Sequential([\n",
    "        layers.Input(shape=(61, 58, 1)),\n",
    "        layers.Conv2D(16, 3, activation='relu'),\n",
    "        layers.Conv2D(16, 3, activation='relu'),\n",
    "        #layers.Flatten(),\n",
    "        #layers.Dense(200)])\n",
    "    ])\n",
    "    self.decoder = tf.keras.Sequential([\n",
    "      #layers.Input(shape=(200)),\n",
    "      #layers.Dense(49248, activation='sigmoid'),\n",
    "      #layers.Reshape((57, 54, 16)),\n",
    "      layers.Input(shape=(57, 54, 16)),\n",
    "      layers.Conv2DTranspose(16, 3, activation='relu'),\n",
    "      layers.Conv2DTranspose(16, 3, activation='relu'), \n",
    "      layers.Conv2DTranspose(8, 3, activation='relu'),\n",
    "      layers.Conv2D(1, 3, activation='sigmoid')\n",
    "      ])\n",
    "\n",
    "  def call(self, x):\n",
    "    self.encoded = self.encoder(x)\n",
    "    \n",
    "    decoded = self.decoder(self.encoded)\n",
    "    return decoded\n",
    "\n",
    "automod = Autoencoder()\n",
    "automod.encoder.summary()\n",
    "automod.decoder.summary()\n",
    "automod.compile(optimizer='adam',\n",
    "              loss=tf.keras.losses.MeanSquaredError(),\n",
    "              metrics=['accuracy'])\n",
    "\n",
    "\n",
    "autohist = automod.fit(x=sp_train, y=sp_train, epochs=50, validation_data=(sp_val, sp_val))\n"
   ]
  },
  {
   "cell_type": "code",
   "execution_count": null,
   "id": "1d3a1aa6",
   "metadata": {},
   "outputs": [
    {
     "name": "stdout",
     "output_type": "stream",
     "text": [
      "480.8482005\n",
      "[-0.01103973 -0.01117128 -0.01114536 -0.01120104 -0.01108548 -0.01107115\n",
      " -0.01118689 -0.01098129 -0.01109879 -0.0110312  -0.01106755 -0.01117576\n",
      " -0.01080272 -0.01114507 -0.01111446 -0.01110455 -0.01116207 -0.0110984\n",
      " -0.01120968 -0.01110553 -0.01112468 -0.01110739 -0.01111402 -0.01113548\n",
      " -0.01114069 -0.01092785 -0.01105954 -0.01112125 -0.01091261 -0.01117919\n",
      " -0.01105419 -0.01105855 -0.01116654 -0.0110994  -0.01110171 -0.01085464\n",
      " -0.0110514  -0.01111004 -0.01120572 -0.01117078 -0.01112172 -0.01082401\n",
      " -0.01128724 -0.01128724 -0.01128724 -0.01128724 -0.01128724 -0.01128724\n",
      " -0.01128724 -0.01128724 -0.01128724 -0.01128724 -0.01128724 -0.01128724\n",
      " -0.01128724 -0.01128724 -0.01128724 -0.01128724]\n"
     ]
    }
   ],
   "source": [
    "print(test.hits[105].start_time)\n",
    "print(w[10][30])"
   ]
  },
  {
   "cell_type": "code",
   "execution_count": 46,
   "id": "a7b8d07c",
   "metadata": {},
   "outputs": [
    {
     "name": "stdout",
     "output_type": "stream",
     "text": [
      "1.0210592036251647\n",
      "0.00401419\n",
      "0.0\n",
      "0.0\n",
      "0.000368987826562935 0.0040088287 0.0 0.0\n",
      "0.0009031148894091567 0.0040088305 0.0 0.0\n",
      "0.0021801511834751044 0.0040088287 0.0 0.0\n",
      "0.001356925629985796 0.0040088287 0.0 0.0\n",
      "0.0018016546682912621 0.0040088287 0.0 0.0\n",
      "0.0015808761521756986 0.0040088287 0.0 0.0\n"
     ]
    },
    {
     "data": {
      "image/png": "[encoded data removed]",
      "text/plain": [
       "<Figure size 720x720 with 2 Axes>"
      ]
     },
     "metadata": {
      "needs_background": "light"
     },
     "output_type": "display_data"
    },
    {
     "data": {
      "image/png": "[encoded data removed]",
      "text/plain": [
       "<Figure size 720x720 with 2 Axes>"
      ]
     },
     "metadata": {
      "needs_background": "light"
     },
     "output_type": "display_data"
    },
    {
     "data": {
      "image/png": "[encoded data removed]",
      "text/plain": [
       "<Figure size 720x720 with 2 Axes>"
      ]
     },
     "metadata": {
      "needs_background": "light"
     },
     "output_type": "display_data"
    },
    {
     "data": {
      "image/png": "[encoded data removed]",
      "text/plain": [
       "<Figure size 720x720 with 2 Axes>"
      ]
     },
     "metadata": {
      "needs_background": "light"
     },
     "output_type": "display_data"
    },
    {
     "data": {
      "image/png": "[encoded data removed]",
      "text/plain": [
       "<Figure size 720x720 with 2 Axes>"
      ]
     },
     "metadata": {
      "needs_background": "light"
     },
     "output_type": "display_data"
    },
    {
     "data": {
      "image/png": "[encoded data removed]",
      "text/plain": [
       "<Figure size 720x720 with 2 Axes>"
      ]
     },
     "metadata": {
      "needs_background": "light"
     },
     "output_type": "display_data"
    }
   ],
   "source": [
    "encoded = automod.encoder(sp_val).numpy()\n",
    "decoded = automod.decoder(encoded).numpy()\n",
    "decoded = decoded[:,:,:,0]\n",
    "\n",
    "wmax = max(max(max(row) for row in pic) for pic in sp_val)\n",
    "wmin = min(min(min(row) for row in pic) for pic in sp_val)\n",
    "print(max(max(max(row) for row in pic) for pic in sp_val))\n",
    "print(max(max(max(row) for row in pic) for pic in decoded))\n",
    "print(min(min(min(row) for row in pic) for pic in sp_val))\n",
    "print(min(min(min(row) for row in pic) for pic in decoded))\n",
    "for i in range(5, 506, 100):\n",
    "    print(max(max(row) for row in sp_val[i]), max(max(row) for row in decoded[i]), min(min(row) for row in sp_val[i]), min(min(row) for row in decoded[i]))\n",
    "    fig, ax = plt.subplots(1,2, figsize=(10,10))\n",
    "    ax[0].imshow(np.sqrt(np.maximum(sp_val[i], 0)), origin=\"lower\", vmin=0, vmax=0.05)\n",
    "    ax[1].imshow(np.sqrt(decoded[i]), origin=\"lower\", vmin=0, vmax=0.05)\n",
    "plt.show()\n",
    "#plt.plot(autohist.history['loss'], label='loss')\n",
    "#plt.plot(autohist.history['val_loss'], label = 'val_loss')\n",
    "#plt.show()"
   ]
  },
  {
   "cell_type": "code",
   "execution_count": null,
   "id": "e07acc44",
   "metadata": {},
   "outputs": [
    {
     "name": "stdout",
     "output_type": "stream",
     "text": [
      "Model: \"sequential_2\"\n",
      "_________________________________________________________________\n",
      " Layer (type)                Output Shape              Param #   \n",
      "=================================================================\n",
      " conv2d_3 (Conv2D)           (None, 59, 56, 32)        320       \n",
      "                                                                 \n",
      " max_pooling2d (MaxPooling2D  (None, 29, 28, 32)       0         \n",
      " )                                                               \n",
      "                                                                 \n",
      " conv2d_4 (Conv2D)           (None, 27, 26, 32)        9248      \n",
      "                                                                 \n",
      " max_pooling2d_1 (MaxPooling  (None, 13, 13, 32)       0         \n",
      " 2D)                                                             \n",
      "                                                                 \n",
      " conv2d_5 (Conv2D)           (None, 11, 11, 32)        9248      \n",
      "                                                                 \n",
      " flatten (Flatten)           (None, 3872)              0         \n",
      "                                                                 \n",
      " dense (Dense)               (None, 64)                247872    \n",
      "                                                                 \n",
      " dense_1 (Dense)             (None, 30)                1950      \n",
      "                                                                 \n",
      "=================================================================\n",
      "Total params: 268,638\n",
      "Trainable params: 268,638\n",
      "Non-trainable params: 0\n",
      "_________________________________________________________________\n",
      "Epoch 1/10\n",
      "27/27 [==============================] - 1s 25ms/step - loss: 1.0198 - accuracy: 0.9573 - val_loss: 0.2305 - val_accuracy: 0.9953\n",
      "Epoch 2/10\n",
      "27/27 [==============================] - 0s 13ms/step - loss: 0.1392 - accuracy: 0.9953 - val_loss: 0.0347 - val_accuracy: 0.9953\n",
      "Epoch 3/10\n",
      "27/27 [==============================] - 0s 14ms/step - loss: 0.0338 - accuracy: 0.9953 - val_loss: 0.0321 - val_accuracy: 0.9953\n",
      "Epoch 4/10\n",
      "27/27 [==============================] - 0s 13ms/step - loss: 0.0330 - accuracy: 0.9953 - val_loss: 0.0302 - val_accuracy: 0.9953\n",
      "Epoch 5/10\n",
      "27/27 [==============================] - 0s 13ms/step - loss: 0.0316 - accuracy: 0.9953 - val_loss: 0.0313 - val_accuracy: 0.9953\n",
      "Epoch 6/10\n",
      "27/27 [==============================] - 0s 14ms/step - loss: 0.0334 - accuracy: 0.9953 - val_loss: 0.0369 - val_accuracy: 0.9953\n",
      "Epoch 7/10\n",
      "27/27 [==============================] - 0s 14ms/step - loss: 0.0395 - accuracy: 0.9953 - val_loss: 0.0368 - val_accuracy: 0.9953\n",
      "Epoch 8/10\n",
      "27/27 [==============================] - 0s 14ms/step - loss: 0.0324 - accuracy: 0.9953 - val_loss: 0.0317 - val_accuracy: 0.9953\n",
      "Epoch 9/10\n",
      "27/27 [==============================] - 0s 14ms/step - loss: 0.0358 - accuracy: 0.9953 - val_loss: 0.0304 - val_accuracy: 0.9953\n",
      "Epoch 10/10\n",
      "27/27 [==============================] - 0s 14ms/step - loss: 0.0307 - accuracy: 0.9953 - val_loss: 0.0276 - val_accuracy: 0.9953\n"
     ]
    },
    {
     "data": {
      "image/png": "[encoded data removed]",
      "text/plain": [
       "<Figure size 640x480 with 1 Axes>"
      ]
     },
     "metadata": {},
     "output_type": "display_data"
    }
   ],
   "source": [
    "\n",
    "\n",
    "\n",
    "model = models.Sequential()\n",
    "model.add(layers.Conv2D(32, 3, activation='relu', input_shape=(61, 58, 1)))\n",
    "model.add(layers.MaxPooling2D((2, 2)))\n",
    "model.add(layers.Conv2D(32, 3, activation='relu'))\n",
    "model.add(layers.MaxPooling2D((2, 2)))\n",
    "model.add(layers.Conv2D(32, 3, activation='relu'))\n",
    "model.add(layers.Flatten())\n",
    "model.add(layers.Dense(64, activation='relu'))\n",
    "model.add(layers.Dense(30))\n",
    "\n",
    "\n",
    "model.summary()\n",
    "model.compile(optimizer='adam',\n",
    "              loss=tf.keras.losses.SparseCategoricalCrossentropy(from_logits=True),\n",
    "              metrics=['accuracy'])\n",
    "\n",
    "history = model.fit(x=w, y=y, epochs=10, validation_data=(w, y))\n",
    "\n",
    "\n",
    "\n",
    "plt.plot(history.history['loss'], label='loss')\n",
    "plt.plot(history.history['val_loss'], label = 'val_loss')\n",
    "plt.show()"
   ]
  },
  {
   "cell_type": "code",
   "execution_count": null,
   "id": "436d1a92",
   "metadata": {},
   "outputs": [],
   "source": []
  }
 ],
 "metadata": {
  "kernelspec": {
   "display_name": "Python 3.9.12 ('base')",
   "language": "python",
   "name": "python3"
  },
  "language_info": {
   "codemirror_mode": {
    "name": "ipython",
    "version": 3
   },
   "file_extension": ".py",
   "mimetype": "text/x-python",
   "name": "python",
   "nbconvert_exporter": "python",
   "pygments_lexer": "ipython3",
   "version": "3.9.12"
  },
  "vscode": {
   "interpreter": {
    "hash": "ea8238db6dc1fe8cf6fe83219457bde9bcbcde2053d40c59d2e78211d10c5fee"
   }
  }
 },
 "nbformat": 4,
 "nbformat_minor": 5
}
